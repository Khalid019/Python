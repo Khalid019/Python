{
  "nbformat": 4,
  "nbformat_minor": 0,
  "metadata": {
    "colab": {
      "provenance": [],
      "authorship_tag": "ABX9TyNPALvswOEofVp68AHTc0Rg",
      "include_colab_link": true
    },
    "kernelspec": {
      "name": "python3",
      "display_name": "Python 3"
    },
    "language_info": {
      "name": "python"
    }
  },
  "cells": [
    {
      "cell_type": "markdown",
      "metadata": {
        "id": "view-in-github",
        "colab_type": "text"
      },
      "source": [
        "<a href=\"https://colab.research.google.com/github/Khalid019/Python/blob/main/Core_Python.ipynb\" target=\"_parent\"><img src=\"https://colab.research.google.com/assets/colab-badge.svg\" alt=\"Open In Colab\"/></a>"
      ]
    },
    {
      "cell_type": "code",
      "source": [],
      "metadata": {
        "id": "JjpwelPQntl0"
      },
      "execution_count": null,
      "outputs": []
    },
    {
      "cell_type": "code",
      "source": [],
      "metadata": {
        "id": "z6qL88Q4nwI3"
      },
      "execution_count": null,
      "outputs": []
    },
    {
      "cell_type": "code",
      "source": [],
      "metadata": {
        "id": "xJRcBeC7nvv7"
      },
      "execution_count": null,
      "outputs": []
    },
    {
      "cell_type": "markdown",
      "source": [
        "Conditional Statement in Python!"
      ],
      "metadata": {
        "id": "AmmlShxvn8Yw"
      }
    },
    {
      "cell_type": "code",
      "source": [
        "x = 20\n",
        "if x>=18:\n",
        "  print(\"You are elligible for married!\")"
      ],
      "metadata": {
        "colab": {
          "base_uri": "https://localhost:8080/"
        },
        "id": "-v9RGtZSoXO2",
        "outputId": "b8792862-23c9-41b3-f36c-e7ff7f43834d"
      },
      "execution_count": 3,
      "outputs": [
        {
          "output_type": "stream",
          "name": "stdout",
          "text": [
            "You are elligible for married!\n"
          ]
        }
      ]
    },
    {
      "cell_type": "code",
      "source": [
        "age = 10\n",
        "if age>=18:\n",
        "  print(\"You are elligible for married!\")\n",
        "else:\n",
        "  print(\"You are not elligible for married!\")  "
      ],
      "metadata": {
        "colab": {
          "base_uri": "https://localhost:8080/"
        },
        "outputId": "52416dd5-ed3f-4cde-8da4-4de6697ff89d",
        "id": "ck3aV5rVpDKa"
      },
      "execution_count": 5,
      "outputs": [
        {
          "output_type": "stream",
          "name": "stdout",
          "text": [
            "You are not elligible for married!\n"
          ]
        }
      ]
    },
    {
      "cell_type": "code",
      "source": [
        "CGPA = 4.0\n",
        "if not CGPA:\n",
        "  print(\"You didn't get A+\")\n",
        "else:\n",
        "  print(\"You get A+\")  "
      ],
      "metadata": {
        "colab": {
          "base_uri": "https://localhost:8080/"
        },
        "id": "1RNAUKRxpaQm",
        "outputId": "1b598f4b-7eb7-450e-ff31-2929dd702911"
      },
      "execution_count": 7,
      "outputs": [
        {
          "output_type": "stream",
          "name": "stdout",
          "text": [
            "You get A+\n"
          ]
        }
      ]
    },
    {
      "cell_type": "code",
      "source": [
        "age =int(input(\"Enter your age: \"))\n",
        "\n",
        "if age<18:\n",
        "  print(\"You are not adult\")\n",
        "elif age==18:\n",
        "  print(\"You are adult\")\n",
        "elif age<=30:\n",
        "  print(\"You are matured\")   \n",
        "else:\n",
        "  print(\"You are old!\")  \n"
      ],
      "metadata": {
        "colab": {
          "base_uri": "https://localhost:8080/"
        },
        "id": "fha_LJ0CqZKQ",
        "outputId": "0472c40c-35c6-493c-e111-7e2e0fe939a7"
      },
      "execution_count": 11,
      "outputs": [
        {
          "output_type": "stream",
          "name": "stdout",
          "text": [
            "Enter your age: 36\n",
            "You are old!\n"
          ]
        }
      ]
    },
    {
      "cell_type": "code",
      "source": [
        "x = [10, 'raju', 'salim', 'cat']\n",
        "\n",
        "if 20 in x:\n",
        "  print(\"20 is in x list\")\n",
        "elif 'raju' in x:\n",
        "  print(\"raju is in list\")\n",
        "else:\n",
        "  print(\"Item is not in list\")    "
      ],
      "metadata": {
        "colab": {
          "base_uri": "https://localhost:8080/"
        },
        "id": "UWeIERkTrn53",
        "outputId": "9d771d06-faa6-43e8-c847-2c299a01a390"
      },
      "execution_count": 15,
      "outputs": [
        {
          "output_type": "stream",
          "name": "stdout",
          "text": [
            "raju is in list\n"
          ]
        }
      ]
    },
    {
      "cell_type": "code",
      "source": [
        "age = int(input(\"Enter your age: \"))\n",
        "x = 'adult' if age>=18 else 'child'\n",
        "x"
      ],
      "metadata": {
        "colab": {
          "base_uri": "https://localhost:8080/",
          "height": 53
        },
        "id": "4BRagcf1uHaf",
        "outputId": "f457e684-5f0f-4f30-9f8c-1df74f135725"
      },
      "execution_count": 17,
      "outputs": [
        {
          "name": "stdout",
          "output_type": "stream",
          "text": [
            "Enter your age: 12\n"
          ]
        },
        {
          "output_type": "execute_result",
          "data": {
            "text/plain": [
              "'child'"
            ],
            "application/vnd.google.colaboratory.intrinsic+json": {
              "type": "string"
            }
          },
          "metadata": {},
          "execution_count": 17
        }
      ]
    },
    {
      "cell_type": "code",
      "source": [
        "if age>18:\n",
        "  pass"
      ],
      "metadata": {
        "id": "TGXNw7d9u2vJ"
      },
      "execution_count": 19,
      "outputs": []
    },
    {
      "cell_type": "markdown",
      "source": [
        "While Loop in Python"
      ],
      "metadata": {
        "id": "h22f8wSe36ZC"
      }
    },
    {
      "cell_type": "code",
      "source": [],
      "metadata": {
        "id": "MeVajp1o39zR"
      },
      "execution_count": null,
      "outputs": []
    }
  ]
}