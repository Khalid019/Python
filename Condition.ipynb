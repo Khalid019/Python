{
 "cells": [
  {
   "cell_type": "markdown",
   "metadata": {},
   "source": [
    "## Conditional Statement"
   ]
  },
  {
   "cell_type": "markdown",
   "metadata": {},
   "source": [
    "### If, elif, else condition"
   ]
  },
  {
   "cell_type": "code",
   "execution_count": 5,
   "metadata": {},
   "outputs": [
    {
     "name": "stdout",
     "output_type": "stream",
     "text": [
      "Eligible for credit card\n",
      "Good Bye\n"
     ]
    }
   ],
   "source": [
    "age = 18\n",
    "if age >= 18:\n",
    "    print(\"Eligible for credit card\")\n",
    "print(\"Good Bye\")\n"
   ]
  },
  {
   "cell_type": "code",
   "execution_count": 6,
   "metadata": {},
   "outputs": [
    {
     "name": "stdout",
     "output_type": "stream",
     "text": [
      "Eligible for green card\n",
      "Good Bye\n"
     ]
    }
   ],
   "source": [
    "age = 17\n",
    "if age >= 18:\n",
    "    print(\"Eligible for credit card\")\n",
    "else:\n",
    "    print(\"Eligible for green card\")\n",
    "print(\"Good Bye\")"
   ]
  },
  {
   "cell_type": "code",
   "execution_count": 7,
   "metadata": {},
   "outputs": [
    {
     "name": "stdout",
     "output_type": "stream",
     "text": [
      "Not eligible\n",
      "Good Bye\n"
     ]
    }
   ],
   "source": [
    "age = 10\n",
    "if age >= 18:\n",
    "    print(\"Eligible for credit card\")\n",
    "elif age >=14:    \n",
    "    print(\"Eligible for green card\")\n",
    "else:\n",
    "    print(\"Not eligible\")  \n",
    "\n",
    "print(\"Good Bye\")      "
   ]
  },
  {
   "cell_type": "code",
   "execution_count": 8,
   "metadata": {},
   "outputs": [
    {
     "name": "stdout",
     "output_type": "stream",
     "text": [
      "Not eligible\n",
      "Good Bye\n"
     ]
    }
   ],
   "source": [
    "age = 10\n",
    "if age >= 18:\n",
    "    print(\"Eligible for credit card\")\n",
    "elif age >=14:    \n",
    "    print(\"Eligible for green card\")\n",
    "elif age >=12:\n",
    "    print(\"Eligible for an bank account\")    \n",
    "else:\n",
    "    print(\"Not eligible\") \n",
    "\n",
    "print(\"Good Bye\")    "
   ]
  },
  {
   "cell_type": "markdown",
   "metadata": {},
   "source": [
    "### While loop "
   ]
  },
  {
   "cell_type": "code",
   "execution_count": 10,
   "metadata": {},
   "outputs": [
    {
     "name": "stdout",
     "output_type": "stream",
     "text": [
      "Number :  0\n",
      "Number :  1\n",
      "Number :  2\n",
      "Number :  3\n",
      "Number :  4\n",
      "Number :  5\n",
      "Number :  6\n",
      "Number :  7\n",
      "Number :  8\n",
      "Number :  9\n",
      "Good Bye\n"
     ]
    }
   ],
   "source": [
    "count = 0\n",
    "\n",
    "while count <= 9:\n",
    "    print(\"Number : \", count)\n",
    "    count += 1\n",
    "\n",
    "print(\"Good Bye\")    "
   ]
  },
  {
   "cell_type": "code",
   "execution_count": 13,
   "metadata": {},
   "outputs": [
    {
     "name": "stdout",
     "output_type": "stream",
     "text": [
      "13\n"
     ]
    }
   ],
   "source": [
    "# Guess number:\n",
    "\n",
    "import random\n",
    "\n",
    "n= 20\n",
    "random_gussed = int(n * random.random()) + 1 # it will create random number 0 to 20:\n",
    "print(random_gussed)"
   ]
  },
  {
   "cell_type": "code",
   "execution_count": 14,
   "metadata": {},
   "outputs": [],
   "source": [
    "import random\n",
    "n= 20\n",
    "random_guessed = int(n * random.random()) + 1 # it will create random number 0 to 20:\n",
    "guess = 0\n",
    "\n",
    "while guess != random_guessed:\n",
    "    guess = int(input(\"New guess number: \"))\n",
    "    if guess > 0:\n",
    "        if guess > random_guessed:\n",
    "            print(\"Number is large\")\n",
    "        \n",
    "        elif guess < random_guessed:\n",
    "            print(\"Number is small: \")   \n",
    "\n",
    "    else:\n",
    "        print(\"Sorry that you are giving up\")\n",
    "        break\n",
    "else:\n",
    "    print(\"Congratulation, You made it!\")\n",
    "\n"
   ]
  },
  {
   "cell_type": "code",
   "execution_count": null,
   "metadata": {},
   "outputs": [],
   "source": []
  },
  {
   "cell_type": "code",
   "execution_count": null,
   "metadata": {},
   "outputs": [],
   "source": []
  }
 ],
 "metadata": {
  "interpreter": {
   "hash": "31f2aee4e71d21fbe5cf8b01ff0e069b9275f58929596ceb00d14d90e3e16cd6"
  },
  "kernelspec": {
   "display_name": "Python 3.6.9 64-bit",
   "language": "python",
   "name": "python3"
  },
  "language_info": {
   "codemirror_mode": {
    "name": "ipython",
    "version": 3
   },
   "file_extension": ".py",
   "mimetype": "text/x-python",
   "name": "python",
   "nbconvert_exporter": "python",
   "pygments_lexer": "ipython3",
   "version": "3.6.9"
  },
  "orig_nbformat": 4
 },
 "nbformat": 4,
 "nbformat_minor": 2
}
