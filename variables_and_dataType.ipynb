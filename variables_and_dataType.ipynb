{
 "cells": [
  {
   "cell_type": "markdown",
   "metadata": {},
   "source": [
    "# Python Variables and Data type "
   ]
  },
  {
   "cell_type": "markdown",
   "metadata": {},
   "source": [
    "## In this section we will cover:\n",
    "### i) An introduction to variables\n",
    "### ii) Data type\n",
    "### iii) Type Conversion\n",
    "### iv) Local and Global Variables"
   ]
  },
  {
   "cell_type": "markdown",
   "metadata": {},
   "source": [
    "## An introduction to variables"
   ]
  },
  {
   "cell_type": "markdown",
   "metadata": {},
   "source": [
    "#### A variable is a container for a value. It can be assigned a name, you can use it to refer to it later in the program. Or A variable is a name given to a memorry location. Python is not \"statically type\". In this program, we do not need to declare variables before using them or declare their type. So, what can we do using python variables? \n",
    "#### i) The value stored in a variable can be changed during program execution.\n",
    "#### ii) A variable in only a name given to a memory location, all the operations done on the variable effects that memory location. "
   ]
  },
  {
   "cell_type": "markdown",
   "metadata": {},
   "source": [
    "### Rules for creating variables in python:\n",
    "#### i) A variable name must start with a letter or the underscore character.\n",
    "#### ii) A variable name cannot start with a number.\n",
    "#### iii) A variable name can only contain alpha-numeric characters and underscores (A-z, 0-9, and _ ).\n",
    "#### iv) Variable names are case-sensitive (name, Name and NAME are three different variables).\n",
    "#### v) The reserved words(keywords) cannot be used naming the variable."
   ]
  },
  {
   "cell_type": "markdown",
   "metadata": {},
   "source": [
    "### A variable name must start with a letter or the underscore character."
   ]
  },
  {
   "cell_type": "code",
   "execution_count": 2,
   "metadata": {},
   "outputs": [
    {
     "name": "stdout",
     "output_type": "stream",
     "text": [
      "45\n",
      "12456.5\n",
      "John\n",
      "Alyee\n"
     ]
    }
   ],
   "source": [
    "# integer variable creation with a big letter\n",
    "Age = 45\n",
    "\n",
    "# floating point creation by a small letter\n",
    "salary = 12456.50\n",
    "\n",
    "# a string creation by a small letter\n",
    "name = \"John\"\n",
    "\n",
    "# a string creation by an underscore\n",
    "_name = \"Alyee\"\n",
    "\n",
    "\n",
    "# Output:\n",
    "print(Age)\n",
    "print(salary)\n",
    "print(name)\n",
    "print(_name)"
   ]
  },
  {
   "cell_type": "markdown",
   "metadata": {},
   "source": [
    "### A variable name cannot start with a number."
   ]
  },
  {
   "cell_type": "code",
   "execution_count": 3,
   "metadata": {},
   "outputs": [
    {
     "ename": "SyntaxError",
     "evalue": "invalid syntax (<ipython-input-3-350b97423a78>, line 2)",
     "output_type": "error",
     "traceback": [
      "\u001b[0;36m  File \u001b[0;32m\"<ipython-input-3-350b97423a78>\"\u001b[0;36m, line \u001b[0;32m2\u001b[0m\n\u001b[0;31m    0Age = 45\u001b[0m\n\u001b[0m       ^\u001b[0m\n\u001b[0;31mSyntaxError\u001b[0m\u001b[0;31m:\u001b[0m invalid syntax\n"
     ]
    }
   ],
   "source": [
    "# integer variable creation by a number\n",
    "0Age = 45\n",
    "print(0Age)"
   ]
  },
  {
   "cell_type": "markdown",
   "metadata": {},
   "source": [
    "### A variable name can only contain alpha-numeric characters and underscores (A-z, 0-9, and _ ):"
   ]
  },
  {
   "cell_type": "code",
   "execution_count": 6,
   "metadata": {},
   "outputs": [
    {
     "name": "stdout",
     "output_type": "stream",
     "text": [
      "Alyee, 2022\n"
     ]
    }
   ],
   "source": [
    "# a variable creation by the alpha-numeric characters and underscores\n",
    "Name_01_year = \"Alyee, 2022\"\n",
    "print(Name_01_year)"
   ]
  },
  {
   "cell_type": "code",
   "execution_count": 7,
   "metadata": {},
   "outputs": [
    {
     "ename": "SyntaxError",
     "evalue": "can't assign to operator (<ipython-input-7-99e0ff02d950>, line 2)",
     "output_type": "error",
     "traceback": [
      "\u001b[0;36m  File \u001b[0;32m\"<ipython-input-7-99e0ff02d950>\"\u001b[0;36m, line \u001b[0;32m2\u001b[0m\n\u001b[0;31m    Name_@_year = \"Alyee, 2022\"\u001b[0m\n\u001b[0m                               ^\u001b[0m\n\u001b[0;31mSyntaxError\u001b[0m\u001b[0;31m:\u001b[0m can't assign to operator\n"
     ]
    }
   ],
   "source": [
    "# a variable creation by the special charecters\n",
    "Name_@_year = \"Alyee, 2022\"\n",
    "print(Name_@_year)"
   ]
  },
  {
   "cell_type": "markdown",
   "metadata": {},
   "source": [
    "### Variable names are case-sensitive (name, Name and NAME are three different variables):"
   ]
  },
  {
   "cell_type": "code",
   "execution_count": 8,
   "metadata": {},
   "outputs": [
    {
     "name": "stdout",
     "output_type": "stream",
     "text": [
      "saybee\n",
      "Jan\n"
     ]
    }
   ],
   "source": [
    "nam = \"saybee\"\n",
    "Nam = \"Jan\"\n",
    "\n",
    "print(nam)\n",
    "print(Nam)"
   ]
  },
  {
   "cell_type": "markdown",
   "metadata": {},
   "source": [
    "### The reserved words(keywords) cannot be used naming the variable:"
   ]
  },
  {
   "cell_type": "code",
   "execution_count": 9,
   "metadata": {},
   "outputs": [
    {
     "ename": "SyntaxError",
     "evalue": "invalid syntax (<ipython-input-9-7babc9ea3e83>, line 1)",
     "output_type": "error",
     "traceback": [
      "\u001b[0;36m  File \u001b[0;32m\"<ipython-input-9-7babc9ea3e83>\"\u001b[0;36m, line \u001b[0;32m1\u001b[0m\n\u001b[0;31m    class = \"Robin\"\u001b[0m\n\u001b[0m          ^\u001b[0m\n\u001b[0;31mSyntaxError\u001b[0m\u001b[0;31m:\u001b[0m invalid syntax\n"
     ]
    }
   ],
   "source": [
    "# class is a python reseve word:\n",
    "class = \"Robin\"\n",
    "print(class)"
   ]
  },
  {
   "cell_type": "markdown",
   "metadata": {},
   "source": [
    "### Assigning a single value to multiple variables: "
   ]
  },
  {
   "cell_type": "code",
   "execution_count": 12,
   "metadata": {},
   "outputs": [
    {
     "name": "stdout",
     "output_type": "stream",
     "text": [
      "10\n",
      "10\n",
      "10\n"
     ]
    }
   ],
   "source": [
    "# Assign the same value\n",
    "\n",
    "a = b = c = 10\n",
    "\n",
    "print(a)\n",
    "print(b)\n",
    "print(c)"
   ]
  },
  {
   "cell_type": "markdown",
   "metadata": {},
   "source": [
    "### Assigning different values to multiple variables: "
   ]
  },
  {
   "cell_type": "code",
   "execution_count": 14,
   "metadata": {},
   "outputs": [
    {
     "name": "stdout",
     "output_type": "stream",
     "text": [
      "12\n",
      "12.05\n",
      "Camy\n"
     ]
    }
   ],
   "source": [
    "# Assign the different values\n",
    "a, b, c = 12, 12.05, \"Camy\"\n",
    "\n",
    "print(a)\n",
    "print(b)\n",
    "print(c)"
   ]
  },
  {
   "cell_type": "markdown",
   "metadata": {},
   "source": [
    "### Can we use the same name for different types? "
   ]
  },
  {
   "cell_type": "code",
   "execution_count": 16,
   "metadata": {},
   "outputs": [
    {
     "name": "stdout",
     "output_type": "stream",
     "text": [
      "Python\n"
     ]
    }
   ],
   "source": [
    "# If we use the same name, the variable starts referring to a new value and type. \n",
    "a = 10\n",
    "a = \"Python\"\n",
    "\n",
    "print(a)"
   ]
  },
  {
   "cell_type": "markdown",
   "metadata": {},
   "source": [
    "## Data type\n",
    "### Python has five standard data type\n",
    "#### i) Numbers\n",
    "#### ii) String\n",
    "#### iii) List\n",
    "#### iv) Tuple\n",
    "#### v) Dictionary\n"
   ]
  },
  {
   "cell_type": "code",
   "execution_count": null,
   "metadata": {},
   "outputs": [],
   "source": []
  },
  {
   "cell_type": "markdown",
   "metadata": {},
   "source": [
    "## Data Stractures\n",
    "### Adv. Datatypes"
   ]
  },
  {
   "cell_type": "markdown",
   "metadata": {},
   "source": [
    "### LIST"
   ]
  },
  {
   "cell_type": "code",
   "execution_count": 20,
   "metadata": {},
   "outputs": [
    {
     "data": {
      "text/plain": [
       "list"
      ]
     },
     "execution_count": 20,
     "metadata": {},
     "output_type": "execute_result"
    }
   ],
   "source": [
    "# Storing Data\n",
    "std = [1, 2, 3, 4, 5, 6, 7, 8, 9]\n",
    "type(std)"
   ]
  },
  {
   "cell_type": "code",
   "execution_count": 21,
   "metadata": {},
   "outputs": [
    {
     "data": {
      "text/plain": [
       "[8, 7, 6, 5]"
      ]
     },
     "execution_count": 21,
     "metadata": {},
     "output_type": "execute_result"
    }
   ],
   "source": [
    "\n",
    "# Accessing  Data\n",
    "std[2]\n",
    "std[2:6]\n",
    "std[2:6:2]\n",
    "std[::-1]\n",
    "std[-2:-6:-1]"
   ]
  },
  {
   "cell_type": "code",
   "execution_count": 22,
   "metadata": {},
   "outputs": [
    {
     "data": {
      "text/plain": [
       "[99, 1, 2, 3, 40, 4, 5, 6, 7, 8, 9, 10]"
      ]
     },
     "execution_count": 22,
     "metadata": {},
     "output_type": "execute_result"
    }
   ],
   "source": [
    "# List operation\n",
    "std.append(10)\n",
    "std.insert(0, 99)\n",
    "std.insert(4, 40)\n",
    "std.index(40) # index nmber provide\n",
    "\n",
    "std.count(40)"
   ]
  },
  {
   "cell_type": "code",
   "execution_count": 23,
   "metadata": {},
   "outputs": [
    {
     "data": {
      "text/plain": [
       "[99, 1, 2, 3, 40, 4, 5, 6, 7, 8, 9, 10, 99, 88, 77]"
      ]
     },
     "execution_count": 23,
     "metadata": {},
     "output_type": "execute_result"
    }
   ],
   "source": [
    "std.extend([99, 88, 77])\n",
    "\n",
    "std"
   ]
  },
  {
   "cell_type": "code",
   "execution_count": 25,
   "metadata": {},
   "outputs": [
    {
     "data": {
      "text/plain": [
       "[2, 3, 4, 5, 6, 7, 8, 9, 10, 99, 88, 77]"
      ]
     },
     "execution_count": 25,
     "metadata": {},
     "output_type": "execute_result"
    }
   ],
   "source": [
    "std.pop(0) #remove indexed value\n",
    "std.remove(40)\n",
    "std"
   ]
  },
  {
   "cell_type": "code",
   "execution_count": 27,
   "metadata": {},
   "outputs": [
    {
     "data": {
      "text/plain": [
       "[99, 88, 77, 10, 9, 8, 7, 6, 5, 4, 3, 2]"
      ]
     },
     "execution_count": 27,
     "metadata": {},
     "output_type": "execute_result"
    }
   ],
   "source": [
    "std.sort()\n",
    "std.sort(reverse=True)\n",
    "std"
   ]
  },
  {
   "cell_type": "code",
   "execution_count": 28,
   "metadata": {},
   "outputs": [
    {
     "data": {
      "text/plain": [
       "[]"
      ]
     },
     "execution_count": 28,
     "metadata": {},
     "output_type": "execute_result"
    }
   ],
   "source": [
    "std.clear()\n",
    "std"
   ]
  },
  {
   "cell_type": "code",
   "execution_count": null,
   "metadata": {},
   "outputs": [],
   "source": []
  }
 ],
 "metadata": {
  "interpreter": {
   "hash": "31f2aee4e71d21fbe5cf8b01ff0e069b9275f58929596ceb00d14d90e3e16cd6"
  },
  "kernelspec": {
   "display_name": "Python 3.6.9 64-bit",
   "language": "python",
   "name": "python3"
  },
  "language_info": {
   "codemirror_mode": {
    "name": "ipython",
    "version": 3
   },
   "file_extension": ".py",
   "mimetype": "text/x-python",
   "name": "python",
   "nbconvert_exporter": "python",
   "pygments_lexer": "ipython3",
   "version": "3.6.9"
  },
  "orig_nbformat": 4
 },
 "nbformat": 4,
 "nbformat_minor": 2
}
