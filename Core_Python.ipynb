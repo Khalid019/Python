{
  "nbformat": 4,
  "nbformat_minor": 0,
  "metadata": {
    "colab": {
      "provenance": [],
      "authorship_tag": "ABX9TyNYVmd33qdGOdgfXZhAzc+5",
      "include_colab_link": true
    },
    "kernelspec": {
      "name": "python3",
      "display_name": "Python 3"
    },
    "language_info": {
      "name": "python"
    }
  },
  "cells": [
    {
      "cell_type": "markdown",
      "metadata": {
        "id": "view-in-github",
        "colab_type": "text"
      },
      "source": [
        "<a href=\"https://colab.research.google.com/github/Khalid019/Python/blob/main/Core_Python.ipynb\" target=\"_parent\"><img src=\"https://colab.research.google.com/assets/colab-badge.svg\" alt=\"Open In Colab\"/></a>"
      ]
    },
    {
      "cell_type": "code",
      "source": [],
      "metadata": {
        "id": "JjpwelPQntl0"
      },
      "execution_count": null,
      "outputs": []
    },
    {
      "cell_type": "code",
      "source": [],
      "metadata": {
        "id": "z6qL88Q4nwI3"
      },
      "execution_count": null,
      "outputs": []
    },
    {
      "cell_type": "code",
      "source": [],
      "metadata": {
        "id": "xJRcBeC7nvv7"
      },
      "execution_count": null,
      "outputs": []
    },
    {
      "cell_type": "markdown",
      "source": [
        "Conditional Statement in Python!"
      ],
      "metadata": {
        "id": "AmmlShxvn8Yw"
      }
    },
    {
      "cell_type": "code",
      "source": [
        "x = 20\n",
        "if x>=18:\n",
        "  print(\"You are elligible for married!\")"
      ],
      "metadata": {
        "colab": {
          "base_uri": "https://localhost:8080/"
        },
        "id": "-v9RGtZSoXO2",
        "outputId": "b8792862-23c9-41b3-f36c-e7ff7f43834d"
      },
      "execution_count": 3,
      "outputs": [
        {
          "output_type": "stream",
          "name": "stdout",
          "text": [
            "You are elligible for married!\n"
          ]
        }
      ]
    },
    {
      "cell_type": "code",
      "source": [
        "age = 10\n",
        "if age>=18:\n",
        "  print(\"You are elligible for married!\")\n",
        "else:\n",
        "  print(\"You are not elligible for married!\")  "
      ],
      "metadata": {
        "colab": {
          "base_uri": "https://localhost:8080/"
        },
        "outputId": "52416dd5-ed3f-4cde-8da4-4de6697ff89d",
        "id": "ck3aV5rVpDKa"
      },
      "execution_count": 5,
      "outputs": [
        {
          "output_type": "stream",
          "name": "stdout",
          "text": [
            "You are not elligible for married!\n"
          ]
        }
      ]
    },
    {
      "cell_type": "code",
      "source": [
        "CGPA = 4.0\n",
        "if not CGPA:\n",
        "  print(\"You didn't get A+\")\n",
        "else:\n",
        "  print(\"You get A+\")  "
      ],
      "metadata": {
        "colab": {
          "base_uri": "https://localhost:8080/"
        },
        "id": "1RNAUKRxpaQm",
        "outputId": "1b598f4b-7eb7-450e-ff31-2929dd702911"
      },
      "execution_count": 7,
      "outputs": [
        {
          "output_type": "stream",
          "name": "stdout",
          "text": [
            "You get A+\n"
          ]
        }
      ]
    },
    {
      "cell_type": "code",
      "source": [
        "age =int(input(\"Enter your age: \"))\n",
        "\n",
        "if age<18:\n",
        "  print(\"You are not adult\")\n",
        "elif age==18:\n",
        "  print(\"You are adult\")\n",
        "elif age<=30:\n",
        "  print(\"You are matured\")   \n",
        "else:\n",
        "  print(\"You are old!\")  \n"
      ],
      "metadata": {
        "colab": {
          "base_uri": "https://localhost:8080/"
        },
        "id": "fha_LJ0CqZKQ",
        "outputId": "0472c40c-35c6-493c-e111-7e2e0fe939a7"
      },
      "execution_count": 11,
      "outputs": [
        {
          "output_type": "stream",
          "name": "stdout",
          "text": [
            "Enter your age: 36\n",
            "You are old!\n"
          ]
        }
      ]
    },
    {
      "cell_type": "code",
      "source": [
        "x = [10, 'raju', 'salim', 'cat']\n",
        "\n",
        "if 20 in x:\n",
        "  print(\"20 is in x list\")\n",
        "elif 'raju' in x:\n",
        "  print(\"raju is in list\")\n",
        "else:\n",
        "  print(\"Item is not in list\")    "
      ],
      "metadata": {
        "colab": {
          "base_uri": "https://localhost:8080/"
        },
        "id": "UWeIERkTrn53",
        "outputId": "9d771d06-faa6-43e8-c847-2c299a01a390"
      },
      "execution_count": 15,
      "outputs": [
        {
          "output_type": "stream",
          "name": "stdout",
          "text": [
            "raju is in list\n"
          ]
        }
      ]
    },
    {
      "cell_type": "code",
      "source": [
        "age = int(input(\"Enter your age: \"))\n",
        "x = 'adult' if age>=18 else 'child'\n",
        "x"
      ],
      "metadata": {
        "colab": {
          "base_uri": "https://localhost:8080/",
          "height": 53
        },
        "id": "4BRagcf1uHaf",
        "outputId": "f457e684-5f0f-4f30-9f8c-1df74f135725"
      },
      "execution_count": 17,
      "outputs": [
        {
          "name": "stdout",
          "output_type": "stream",
          "text": [
            "Enter your age: 12\n"
          ]
        },
        {
          "output_type": "execute_result",
          "data": {
            "text/plain": [
              "'child'"
            ],
            "application/vnd.google.colaboratory.intrinsic+json": {
              "type": "string"
            }
          },
          "metadata": {},
          "execution_count": 17
        }
      ]
    },
    {
      "cell_type": "code",
      "source": [
        "if age>18:\n",
        "  pass"
      ],
      "metadata": {
        "id": "TGXNw7d9u2vJ"
      },
      "execution_count": 19,
      "outputs": []
    },
    {
      "cell_type": "markdown",
      "source": [
        "While Loop in Python"
      ],
      "metadata": {
        "id": "h22f8wSe36ZC"
      }
    },
    {
      "cell_type": "code",
      "source": [
        "n=0\n",
        "while n <= 10:\n",
        "  print('value of n is = ',n)\n",
        "  n+=1"
      ],
      "metadata": {
        "colab": {
          "base_uri": "https://localhost:8080/"
        },
        "id": "MeVajp1o39zR",
        "outputId": "aa7d1165-18c9-4eb4-cb68-4e09517e2690"
      },
      "execution_count": 21,
      "outputs": [
        {
          "output_type": "stream",
          "name": "stdout",
          "text": [
            "value of n is =  0\n",
            "value of n is =  1\n",
            "value of n is =  2\n",
            "value of n is =  3\n",
            "value of n is =  4\n",
            "value of n is =  5\n",
            "value of n is =  6\n",
            "value of n is =  7\n",
            "value of n is =  8\n",
            "value of n is =  9\n",
            "value of n is =  10\n"
          ]
        }
      ]
    },
    {
      "cell_type": "code",
      "source": [
        "a = [1, 2, 3, 4, 5, 6]\n",
        "x = 1\n",
        "\n",
        "while a:\n",
        "  print('this is iteration number: ', x)\n",
        "  x +=1\n",
        "  print(a)\n",
        "  a.pop()"
      ],
      "metadata": {
        "colab": {
          "base_uri": "https://localhost:8080/"
        },
        "id": "fm9TlqT96fhs",
        "outputId": "367c5e17-e084-4825-d174-f4cef969d8ff"
      },
      "execution_count": 25,
      "outputs": [
        {
          "output_type": "stream",
          "name": "stdout",
          "text": [
            "this is iteration number:  1\n",
            "[1, 2, 3, 4, 5, 6]\n",
            "this is iteration number:  2\n",
            "[1, 2, 3, 4, 5]\n",
            "this is iteration number:  3\n",
            "[1, 2, 3, 4]\n",
            "this is iteration number:  4\n",
            "[1, 2, 3]\n",
            "this is iteration number:  5\n",
            "[1, 2]\n",
            "this is iteration number:  6\n",
            "[1]\n"
          ]
        }
      ]
    },
    {
      "cell_type": "markdown",
      "source": [
        "Break & Continue Statement"
      ],
      "metadata": {
        "id": "PRh2CMbR8h7r"
      }
    },
    {
      "cell_type": "code",
      "source": [
        "i=0\n",
        "while i <= 10:\n",
        "  print('value of n is = ', i)\n",
        "  i+=1\n",
        "  if i == 3:\n",
        "    break\n",
        "  print('Hello')  "
      ],
      "metadata": {
        "colab": {
          "base_uri": "https://localhost:8080/"
        },
        "id": "AEER994f8oDY",
        "outputId": "91d229ef-32ce-4fb5-faf8-69f92c3c10b6"
      },
      "execution_count": 30,
      "outputs": [
        {
          "output_type": "stream",
          "name": "stdout",
          "text": [
            "value of n is =  0\n",
            "Hello\n",
            "value of n is =  1\n",
            "Hello\n",
            "value of n is =  2\n"
          ]
        }
      ]
    },
    {
      "cell_type": "code",
      "source": [
        "i=0\n",
        "while i <= 10:\n",
        "  print('value of n is = ', i)\n",
        "  i+=1\n",
        "  if i == 5:\n",
        "    continue\n",
        "  print('Hello')  "
      ],
      "metadata": {
        "colab": {
          "base_uri": "https://localhost:8080/"
        },
        "id": "ARp2jK9K9nnq",
        "outputId": "92b7c28b-35ee-4af7-fcdb-bc4eb581dad5"
      },
      "execution_count": 31,
      "outputs": [
        {
          "output_type": "stream",
          "name": "stdout",
          "text": [
            "value of n is =  0\n",
            "Hello\n",
            "value of n is =  1\n",
            "Hello\n",
            "value of n is =  2\n",
            "Hello\n",
            "value of n is =  3\n",
            "Hello\n",
            "value of n is =  4\n",
            "value of n is =  5\n",
            "Hello\n",
            "value of n is =  6\n",
            "Hello\n",
            "value of n is =  7\n",
            "Hello\n",
            "value of n is =  8\n",
            "Hello\n",
            "value of n is =  9\n",
            "Hello\n",
            "value of n is =  10\n",
            "Hello\n"
          ]
        }
      ]
    },
    {
      "cell_type": "code",
      "source": [
        "print(\"Factorial number calculation: \")\n",
        "number = int(input(\"Enter the number: \"))\n",
        "\n",
        "fact = 1\n",
        "\n",
        "if number == 0:\n",
        "  result = 1\n",
        "else:\n",
        "  while number >= 1:\n",
        "    fact = fact * number\n",
        "    number = number - 1\n",
        "    #print(number)\n",
        "print(f'The factorial number is: ', fact)"
      ],
      "metadata": {
        "colab": {
          "base_uri": "https://localhost:8080/"
        },
        "id": "rJBuFxBeCgXU",
        "outputId": "d8c04e1c-0d99-4c39-ff24-e828f023b7f0"
      },
      "execution_count": 45,
      "outputs": [
        {
          "output_type": "stream",
          "name": "stdout",
          "text": [
            "Factorial number calculation: \n",
            "Enter the number: 3\n",
            "The factorial number is:  6\n"
          ]
        }
      ]
    },
    {
      "cell_type": "code",
      "source": [
        "print(\"Fabonacci series: \")\n",
        "nterms = int(input(\"How many terms the user want to input: \"))\n",
        "\n",
        "n1 = 0\n",
        "n2 = 1\n",
        "count = 0\n",
        "\n",
        "if nterms <= 0:\n",
        "  print(\"Invalid input\")\n",
        "elif nterms == 1:\n",
        "  print('The fabonacci number is: ', n1)  \n",
        "else:\n",
        "  print (\"The fibonacci sequence of the numbers is:\")\n",
        "  while count < nterms:\n",
        "    print(n1)\n",
        "    nth = n1 + n2\n",
        "    n1 = n2\n",
        "    n2 = nth\n",
        "    count += 1\n"
      ],
      "metadata": {
        "colab": {
          "base_uri": "https://localhost:8080/"
        },
        "id": "ZQx14aRoE1Xi",
        "outputId": "810e52d7-9cec-459f-a8d9-7f13b03bd1b1"
      },
      "execution_count": 20,
      "outputs": [
        {
          "output_type": "stream",
          "name": "stdout",
          "text": [
            "Fabonacci series: \n",
            "How many terms the user want to input: 5\n",
            "The fibonacci sequence of the numbers is:\n",
            "0\n",
            "1\n",
            "1\n",
            "2\n",
            "3\n"
          ]
        }
      ]
    }
  ]
}