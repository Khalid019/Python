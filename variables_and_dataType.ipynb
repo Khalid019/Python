{
 "cells": [
  {
   "cell_type": "markdown",
   "metadata": {},
   "source": [
    "# Python Variables and Data type "
   ]
  },
  {
   "cell_type": "markdown",
   "metadata": {},
   "source": [
    "## In this section we will cover:\n",
    "### i) An introduction to variables\n",
    "### ii) Data type\n",
    "### iii) Type Conversion\n",
    "### iv) Local and Global Variables"
   ]
  },
  {
   "cell_type": "markdown",
   "metadata": {},
   "source": [
    "## An introduction to variables"
   ]
  },
  {
   "cell_type": "markdown",
   "metadata": {},
   "source": [
    "#### A variable is a container for a value. It can be assigned a name, you can use it to refer to it later in the program. Or A variable is a name given to a memorry location. Python is not \"statically type\". In this program, we do not need to declare variables before using them or declare their type. So, what can we do using python variables? \n",
    "#### i) The value stored in a variable can be changed during program execution.\n",
    "#### ii) A variable in only a name given to a memory location, all the operations done on the variable effects that memory location. "
   ]
  },
  {
   "cell_type": "markdown",
   "metadata": {},
   "source": [
    "### Rules for creating variables in python:\n",
    "#### i) A variable name must start with a letter or the underscore character.\n",
    "#### ii) A variable name cannot start with a number.\n",
    "#### iii) A variable name can only contain alpha-numeric characters and underscores (A-z, 0-9, and _ ).\n",
    "#### iv) Variable names are case-sensitive (name, Name and NAME are three different variables).\n",
    "#### v) The reserved words(keywords) cannot be used naming the variable."
   ]
  },
  {
   "cell_type": "markdown",
   "metadata": {},
   "source": [
    "### A variable name must start with a letter or the underscore character."
   ]
  },
  {
   "cell_type": "code",
   "execution_count": 1,
   "metadata": {},
   "outputs": [
    {
     "name": "stdout",
     "output_type": "stream",
     "text": [
      "45\n",
      "12456.5\n",
      "John\n",
      "Alyee\n"
     ]
    }
   ],
   "source": [
    "# integer variable creation with a big letter\n",
    "Age = 45\n",
    "\n",
    "# floating point creation by a small letter\n",
    "salary = 12456.50\n",
    "\n",
    "# a string creation by a small letter\n",
    "name = \"John\"\n",
    "\n",
    "# a string creation by an underscore\n",
    "_name = \"Alyee\"\n",
    "\n",
    "\n",
    "# Output:\n",
    "print(Age)\n",
    "print(salary)\n",
    "print(name)\n",
    "print(_name)"
   ]
  },
  {
   "cell_type": "markdown",
   "metadata": {},
   "source": [
    "### A variable name cannot start with a number."
   ]
  },
  {
   "cell_type": "code",
   "execution_count": 2,
   "metadata": {},
   "outputs": [
    {
     "ename": "SyntaxError",
     "evalue": "invalid syntax (<ipython-input-2-350b97423a78>, line 2)",
     "output_type": "error",
     "traceback": [
      "\u001b[0;36m  File \u001b[0;32m\"<ipython-input-2-350b97423a78>\"\u001b[0;36m, line \u001b[0;32m2\u001b[0m\n\u001b[0;31m    0Age = 45\u001b[0m\n\u001b[0m       ^\u001b[0m\n\u001b[0;31mSyntaxError\u001b[0m\u001b[0;31m:\u001b[0m invalid syntax\n"
     ]
    }
   ],
   "source": [
    "# integer variable creation by a number\n",
    "0Age = 45\n",
    "print(0Age)"
   ]
  },
  {
   "cell_type": "markdown",
   "metadata": {},
   "source": [
    "### A variable name can only contain alpha-numeric characters and underscores (A-z, 0-9, and _ ):"
   ]
  },
  {
   "cell_type": "code",
   "execution_count": null,
   "metadata": {},
   "outputs": [
    {
     "name": "stdout",
     "output_type": "stream",
     "text": [
      "Alyee, 2022\n"
     ]
    }
   ],
   "source": [
    "# a variable creation by the alpha-numeric characters and underscores\n",
    "Name_01_year = \"Alyee, 2022\"\n",
    "print(Name_01_year)"
   ]
  },
  {
   "cell_type": "code",
   "execution_count": null,
   "metadata": {},
   "outputs": [
    {
     "ename": "SyntaxError",
     "evalue": "can't assign to operator (<ipython-input-7-99e0ff02d950>, line 2)",
     "output_type": "error",
     "traceback": [
      "\u001b[0;36m  File \u001b[0;32m\"<ipython-input-7-99e0ff02d950>\"\u001b[0;36m, line \u001b[0;32m2\u001b[0m\n\u001b[0;31m    Name_@_year = \"Alyee, 2022\"\u001b[0m\n\u001b[0m                               ^\u001b[0m\n\u001b[0;31mSyntaxError\u001b[0m\u001b[0;31m:\u001b[0m can't assign to operator\n"
     ]
    }
   ],
   "source": [
    "# a variable creation by the special charecters\n",
    "Name_@_year = \"Alyee, 2022\"\n",
    "print(Name_@_year)"
   ]
  },
  {
   "cell_type": "markdown",
   "metadata": {},
   "source": [
    "### Variable names are case-sensitive (name, Name and NAME are three different variables):"
   ]
  },
  {
   "cell_type": "code",
   "execution_count": null,
   "metadata": {},
   "outputs": [
    {
     "name": "stdout",
     "output_type": "stream",
     "text": [
      "saybee\n",
      "Jan\n"
     ]
    }
   ],
   "source": [
    "nam = \"saybee\"\n",
    "Nam = \"Jan\"\n",
    "\n",
    "print(nam)\n",
    "print(Nam)"
   ]
  },
  {
   "cell_type": "markdown",
   "metadata": {},
   "source": [
    "### The reserved words(keywords) cannot be used naming the variable:"
   ]
  },
  {
   "cell_type": "code",
   "execution_count": null,
   "metadata": {},
   "outputs": [
    {
     "ename": "SyntaxError",
     "evalue": "invalid syntax (<ipython-input-9-7babc9ea3e83>, line 1)",
     "output_type": "error",
     "traceback": [
      "\u001b[0;36m  File \u001b[0;32m\"<ipython-input-9-7babc9ea3e83>\"\u001b[0;36m, line \u001b[0;32m1\u001b[0m\n\u001b[0;31m    class = \"Robin\"\u001b[0m\n\u001b[0m          ^\u001b[0m\n\u001b[0;31mSyntaxError\u001b[0m\u001b[0;31m:\u001b[0m invalid syntax\n"
     ]
    }
   ],
   "source": [
    "# class is a python reseve word:\n",
    "class = \"Robin\"\n",
    "print(class)"
   ]
  },
  {
   "cell_type": "markdown",
   "metadata": {},
   "source": [
    "### Assigning a single value to multiple variables: "
   ]
  },
  {
   "cell_type": "code",
   "execution_count": null,
   "metadata": {},
   "outputs": [
    {
     "name": "stdout",
     "output_type": "stream",
     "text": [
      "10\n",
      "10\n",
      "10\n"
     ]
    }
   ],
   "source": [
    "# Assign the same value\n",
    "\n",
    "a = b = c = 10\n",
    "\n",
    "print(a)\n",
    "print(b)\n",
    "print(c)"
   ]
  },
  {
   "cell_type": "markdown",
   "metadata": {},
   "source": [
    "### Assigning different values to multiple variables: "
   ]
  },
  {
   "cell_type": "code",
   "execution_count": null,
   "metadata": {},
   "outputs": [
    {
     "name": "stdout",
     "output_type": "stream",
     "text": [
      "12\n",
      "12.05\n",
      "Camy\n"
     ]
    }
   ],
   "source": [
    "# Assign the different values\n",
    "a, b, c = 12, 12.05, \"Camy\"\n",
    "\n",
    "print(a)\n",
    "print(b)\n",
    "print(c)"
   ]
  },
  {
   "cell_type": "markdown",
   "metadata": {},
   "source": [
    "### Can we use the same name for different types? "
   ]
  },
  {
   "cell_type": "code",
   "execution_count": null,
   "metadata": {},
   "outputs": [
    {
     "name": "stdout",
     "output_type": "stream",
     "text": [
      "Python\n"
     ]
    }
   ],
   "source": [
    "# If we use the same name, the variable starts referring to a new value and type. \n",
    "a = 10\n",
    "a = \"Python\"\n",
    "\n",
    "print(a)"
   ]
  },
  {
   "cell_type": "markdown",
   "metadata": {},
   "source": [
    "## Data type\n",
    "### Python has five standard data type\n",
    "#### i) Numbers\n",
    "#### ii) String\n",
    "#### iii) List\n",
    "#### iv) Tuple\n",
    "#### v) Dictionary\n"
   ]
  },
  {
   "cell_type": "markdown",
   "metadata": {},
   "source": [
    "## Python Numbers:\n",
    "\n",
    "#### Number data types store numeric values. They are immutable data type which means that changing the value of a number data type results in a newly allocated object.\n",
    "\n",
    "#### Number objects are created when you assign a value to them. For example:"
   ]
  },
  {
   "cell_type": "code",
   "execution_count": 3,
   "metadata": {},
   "outputs": [
    {
     "name": "stdout",
     "output_type": "stream",
     "text": [
      "10\n"
     ]
    }
   ],
   "source": [
    "var1 = 1\n",
    "var2 = 10\n",
    "\n",
    "print(10)"
   ]
  },
  {
   "cell_type": "markdown",
   "metadata": {},
   "source": [
    "#### We can delete a single object or multiple objects by using the del statement. The syntax of the del statement is:"
   ]
  },
  {
   "cell_type": "code",
   "execution_count": null,
   "metadata": {},
   "outputs": [],
   "source": [
    "del var # Delete the single varible\n",
    "del var_a, var_b # Delete the multiple variable"
   ]
  },
  {
   "cell_type": "code",
   "execution_count": 7,
   "metadata": {},
   "outputs": [
    {
     "ename": "NameError",
     "evalue": "name 'ver1' is not defined",
     "output_type": "error",
     "traceback": [
      "\u001b[0;31m---------------------------------------------------------------------------\u001b[0m",
      "\u001b[0;31mNameError\u001b[0m                                 Traceback (most recent call last)",
      "\u001b[0;32m<ipython-input-7-b23370d7a97b>\u001b[0m in \u001b[0;36m<module>\u001b[0;34m\u001b[0m\n\u001b[0;32m----> 1\u001b[0;31m \u001b[0;32mdel\u001b[0m \u001b[0mver1\u001b[0m\u001b[0;34m\u001b[0m\u001b[0;34m\u001b[0m\u001b[0m\n\u001b[0m\u001b[1;32m      2\u001b[0m \u001b[0mprint\u001b[0m\u001b[0;34m(\u001b[0m\u001b[0mver1\u001b[0m\u001b[0;34m)\u001b[0m\u001b[0;34m\u001b[0m\u001b[0;34m\u001b[0m\u001b[0m\n",
      "\u001b[0;31mNameError\u001b[0m: name 'ver1' is not defined"
     ]
    }
   ],
   "source": [
    "del ver1 # delete the variable var1\n",
    "print(ver1) # print the delete variable for checking"
   ]
  },
  {
   "cell_type": "markdown",
   "metadata": {},
   "source": [
    "### Python supports four different numerical types:\n",
    "\n",
    "#### i) int (signed integers)\n",
    "#### ii) long (long integers)\n",
    "#### iii) float (floating point real values)\n",
    "#### iv) complex (complex numbers)\n",
    "\n",
    "### Examples\n"
   ]
  },
  {
   "cell_type": "code",
   "execution_count": null,
   "metadata": {},
   "outputs": [],
   "source": [
    "# int\n",
    "10, 12, 500, -1\n",
    "\n",
    "# long\n",
    "519643L, 0122L\n",
    "\n",
    "# float\n",
    "0.0, 15.20, -21.5\n",
    "\n",
    "# complex\n",
    "3.14j, 45j"
   ]
  },
  {
   "cell_type": "markdown",
   "metadata": {},
   "source": [
    "## Python Strings:\n",
    "\n",
    "#### String s in Python are identified as a contig uous set of characters in between quotation marks. Python allows for either pairs of sing le or double quotes. Subsets of string s can be taken using the slice operator ( [ ] and [ : ] ) with indexes starting at 0 in the beg inning of the string and working their way from -1 at the end.\n",
    "\n",
    "#### The plus ( + ) sig n is the string concatenation operator and the asterisk ( * ) is the repetition operator. For example:"
   ]
  },
  {
   "cell_type": "code",
   "execution_count": 9,
   "metadata": {},
   "outputs": [
    {
     "name": "stdout",
     "output_type": "stream",
     "text": [
      "Hello World!\n",
      "H\n",
      "llo\n",
      "llo World!\n",
      "Hello World!Hello World!\n",
      "Hello World!TEST\n"
     ]
    }
   ],
   "source": [
    "str = 'Hello World!'\n",
    "print(str) # Prints complete string\n",
    "print(str[0]) # Prints first character of the string\n",
    "print(str[2:5]) # Prints characters starting from 3rd to 5th\n",
    "print(str[2:]) # Prints string starting from 3rd character\n",
    "print(str * 2) # Prints string two times\n",
    "print(str + \"TEST\") # Prints concatenated string"
   ]
  },
  {
   "cell_type": "markdown",
   "metadata": {},
   "source": [
    "### Python Lists:\n",
    "\n",
    "#### Lists are the most versatile of Python's compound data types. A list contains items separated by commas and enclosed within square brackets ([]). T o some extent, lists are similar to arrays in C. One difference between them is that all the items belong ing to a list can be of different data type.\n",
    "\n",
    "#### The values stored in a list can be accessed using the slice operator ( [ ] and [ : ] ) with indexes starting at 0 in the beginning of the list and working their way to end -1. T he plus ( + ) sig n is the list concatenation operator, and the asterisk ( * ) is the repetition operator. For example:"
   ]
  },
  {
   "cell_type": "code",
   "execution_count": 11,
   "metadata": {},
   "outputs": [
    {
     "name": "stdout",
     "output_type": "stream",
     "text": [
      "['abcd', 786, 2.23, 'john', 70.2]\n",
      "abcd\n",
      "[786, 2.23]\n",
      "[2.23, 'john', 70.2]\n",
      "[123, 'john', 123, 'john']\n",
      "['abcd', 786, 2.23, 'john', 70.2, 123, 'john']\n"
     ]
    }
   ],
   "source": [
    "list = [ 'abcd', 786 , 2.23, 'john', 70.2 ]\n",
    "tinylist = [123, 'john']\n",
    "print(list) # Prints complete list\n",
    "print(list[0]) # Prints first element of the list\n",
    "print(list[1:3]) # Prints elements starting from 2nd till 3rd\n",
    "print(list[2:]) # Prints elements starting from 3rd element\n",
    "print(tinylist * 2) # Prints list two times\n",
    "print(list + tinylist) # Prints concatenated lists"
   ]
  },
  {
   "cell_type": "markdown",
   "metadata": {},
   "source": [
    "### Python Tuples\n",
    "\n",
    "#### A tuple is another sequence data type that is similar to the list. A tuple consists of a number of values separated by commas. Unlike lists, however, tuples are enclosed within parentheses.\n",
    "\n",
    "#### The main differences between lists and tuples are: Lists are enclosed in brackets ( [ ] ) and their elements and size can be chang ed, while tuples are enclosed in parentheses ( ( ) ) and cannot be updated. Tuples can be thoug ht of as read-only lists. For example:"
   ]
  },
  {
   "cell_type": "code",
   "execution_count": 12,
   "metadata": {},
   "outputs": [
    {
     "name": "stdout",
     "output_type": "stream",
     "text": [
      "('abcd', 786, 2.23, 'john', 70.2)\n",
      "abcd\n",
      "(786, 2.23)\n",
      "(2.23, 'john', 70.2)\n",
      "(123, 'john', 123, 'john')\n",
      "('abcd', 786, 2.23, 'john', 70.2, 123, 'john')\n"
     ]
    }
   ],
   "source": [
    "tuple = ( 'abcd', 786 , 2.23, 'john', 70.2 )\n",
    "tinytuple = (123, 'john')\n",
    "\n",
    "print(tuple) # Prints complete list\n",
    "print(tuple[0]) # Prints first element of the list\n",
    "print(tuple[1:3]) # Prints elements starting from 2nd till 3rd\n",
    "print(tuple[2:]) # Prints elements starting from 3rd element\n",
    "print(tinytuple * 2) # Prints list two times\n",
    "print(tuple + tinytuple) # Prints concatenated lists"
   ]
  },
  {
   "cell_type": "markdown",
   "metadata": {},
   "source": [
    "### Python Dictionary:\n",
    "\n",
    "#### Python's dictionaries are kind of hash table type. T hey work like associative arrays or hashes found in Perl and consist of key-value pairs. A dictionary key can be almost any Python type, but are usually numbers or strings. Values, on the other hand, can be any arbitrary Python object. Dictionaries are enclosed by curly braces ( { } ) and values can be assig ned and accessed using square braces ([]). For example:"
   ]
  },
  {
   "cell_type": "code",
   "execution_count": 13,
   "metadata": {},
   "outputs": [
    {
     "name": "stdout",
     "output_type": "stream",
     "text": [
      "This is one\n",
      "This is two\n",
      "{'name': 'john', 'code': 6734, 'dept': 'sales'}\n",
      "dict_keys(['name', 'code', 'dept'])\n",
      "dict_values(['john', 6734, 'sales'])\n"
     ]
    }
   ],
   "source": [
    "dict = {}\n",
    "dict['one'] = \"This is one\"\n",
    "dict[2] = \"This is two\"\n",
    "tinydict = {'name': 'john','code':6734, 'dept': 'sales'}\n",
    "print(dict['one']) # Prints value for 'one' key\n",
    "print(dict[2]) # Prints value for 2 key\n",
    "print(tinydict) # Prints complete dictionary\n",
    "print(tinydict.keys()) # Prints all the keys\n",
    "print(tinydict.values()) # Prints all the values"
   ]
  },
  {
   "cell_type": "markdown",
   "metadata": {},
   "source": [
    "### Data Type Conversion:\n",
    "\n",
    "#### Sometimes, you may need to perform conversions between the built-in types. T o convert between types, you simply use the type name as a function. There are several built-in functions to perform conversion from one data type to another. T hese functions return a new object representing the converted value"
   ]
  },
  {
   "cell_type": "markdown",
   "metadata": {},
   "source": []
  },
  {
   "cell_type": "code",
   "execution_count": null,
   "metadata": {},
   "outputs": [],
   "source": []
  }
 ],
 "metadata": {
  "interpreter": {
   "hash": "31f2aee4e71d21fbe5cf8b01ff0e069b9275f58929596ceb00d14d90e3e16cd6"
  },
  "kernelspec": {
   "display_name": "Python 3.6.9 64-bit",
   "language": "python",
   "name": "python3"
  },
  "language_info": {
   "codemirror_mode": {
    "name": "ipython",
    "version": 3
   },
   "file_extension": ".py",
   "mimetype": "text/x-python",
   "name": "python",
   "nbconvert_exporter": "python",
   "pygments_lexer": "ipython3",
   "version": "3.6.9"
  },
  "orig_nbformat": 4
 },
 "nbformat": 4,
 "nbformat_minor": 2
}
