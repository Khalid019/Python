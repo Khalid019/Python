{
 "cells": [
  {
   "cell_type": "markdown",
   "metadata": {},
   "source": [
    "# Python problem:\n",
    "\n",
    "## Smart Door password = 'open@'\n",
    "## Match the password if it is worng then show try again\n",
    "## Maximum try is 3\n",
    "## Ask for security answer if you exceed your maximum time: say fav_color= 'black'\n",
    "## If security answer is correct then help the user to reset password\n",
    "## Otherwise lock the door\n",
    "\n"
   ]
  },
  {
   "cell_type": "code",
   "execution_count": null,
   "metadata": {},
   "outputs": [
    {
     "name": "stdout",
     "output_type": "stream",
     "text": [
      "Opening the door\n"
     ]
    }
   ],
   "source": [
    "count = 0\n",
    "\n",
    "# while condition\n",
    "while count <= 3:\n",
    "    password = input(\"Please enter your given password\")\n",
    "\n",
    "    # Try match the password\n",
    "    if password == \"open@\":\n",
    "        print(\"Opening the door\")\n",
    "        break\n",
    "    else:\n",
    "        print(\"Sorry, try again\") \n",
    "        count += 1   "
   ]
  },
  {
   "cell_type": "code",
   "execution_count": 2,
   "metadata": {},
   "outputs": [
    {
     "name": "stdout",
     "output_type": "stream",
     "text": [
      " # Python program for check the door password !\n",
      "Sorry, try again\n",
      "Sorry, try again\n",
      "Sorry, try again\n",
      "Your door is locked\n"
     ]
    }
   ],
   "source": [
    "print(\" # Python program for check the door password !\")\n",
    "\n",
    "# let say initial count number is 1\n",
    "password_attempt = 1\n",
    "\n",
    "# Apply while condition and if else in between: Let say count is not 4\n",
    "while True:\n",
    "    \n",
    "    password = input(\"Please enter your given password: \")\n",
    "\n",
    "    # Try match the password\n",
    "    if password_attempt <= 3:\n",
    "        if password == \"open@\":\n",
    "            print(\"Successfully login!\")\n",
    "            break\n",
    "        else:\n",
    "            print(\"Sorry, try again\") \n",
    "        password_attempt += 1 \n",
    "            \n",
    "    else:\n",
    "        #print(\"Please input your security answer\")\n",
    "        security_answer = input(\"Please enter your security answer for a favorite color:  \")\n",
    "\n",
    "        if security_answer == \"black\":\n",
    "            print(\"Help the user to reset your password\")\n",
    "        else:\n",
    "            print(\"Your door is locked\")\n",
    "        break"
   ]
  }
 ],
 "metadata": {
  "interpreter": {
   "hash": "31f2aee4e71d21fbe5cf8b01ff0e069b9275f58929596ceb00d14d90e3e16cd6"
  },
  "kernelspec": {
   "display_name": "Python 3.6.9 64-bit",
   "language": "python",
   "name": "python3"
  },
  "language_info": {
   "codemirror_mode": {
    "name": "ipython",
    "version": 3
   },
   "file_extension": ".py",
   "mimetype": "text/x-python",
   "name": "python",
   "nbconvert_exporter": "python",
   "pygments_lexer": "ipython3",
   "version": "3.6.9"
  },
  "orig_nbformat": 4
 },
 "nbformat": 4,
 "nbformat_minor": 2
}
