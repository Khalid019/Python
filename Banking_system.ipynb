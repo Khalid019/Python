{
 "cells": [
  {
   "cell_type": "code",
   "execution_count": 65,
   "metadata": {},
   "outputs": [
    {
     "name": "stdout",
     "output_type": "stream",
     "text": [
      "Account holder details: \n",
      "\n",
      "Account Number:  AB0101\n",
      "Name:  Jany\n",
      "Age:  25\n",
      "Gender:  Male\n",
      "email:  janybd@gmail.com\n",
      "Cell phone:  01725*****\n",
      "\n",
      "Account balance has been deposited:  500\n",
      "Account balance has been withdrew successfully, your present valance is:  299\n",
      "Account balance has been transferred successfully, your present valance is:  199\n",
      "\n",
      "Your present account balance is:  199\n",
      "Account balance has been withdrew successfully, your present valance is:  149\n",
      "Account balance has been transferred successfully, your present valance is:  89\n"
     ]
    }
   ],
   "source": [
    "#Parent class\n",
    "class Account_holder():\n",
    "    def __init__(self, account_number, name, age, gender, email, Cell_phone):\n",
    "        self.account_number = account_number\n",
    "        self.name = name\n",
    "        self.age = age\n",
    "        self.gender = gender\n",
    "        self.email = email\n",
    "        self.Cell_phone = Cell_phone\n",
    "    def account_details(self):\n",
    "        print(\"Account holder details: \\n\")\n",
    "        print(\"Account Number: \", self.account_number)\n",
    "        print(\"Name: \", self.name)\n",
    "        print(\"Age: \", self.age)\n",
    "        print(\"Gender: \", self.gender)\n",
    "        print(\"email: \", self.email)\n",
    "        print(\"Cell phone: \", self.Cell_phone)\n",
    "\n",
    "    # child class: inherited Account_holder class to Bank class\n",
    "class Bank(Account_holder):\n",
    "        def __init__(self, account_number, name, age, gender, email, Cell_phone):\n",
    "            super().__init__(account_number, name, age, gender, email, Cell_phone)\n",
    "            self.balance = 0\n",
    "            #print(\"Account is successfully created!\", self.balance)  \n",
    "\n",
    "        def deposit(self, amount):\n",
    "            self.amount = amount\n",
    "            self.balance = self.balance + amount\n",
    "            print(\"\")\n",
    "            print(\"Account balance has been deposited: \", self.balance)\n",
    "\n",
    "        def withdraw(self, amount):\n",
    "            self.amount = amount\n",
    "            if self.amount > self.balance:\n",
    "                print(\"Insuffiient balance for withdraw. Your present balance is: \", self.balance)\n",
    "            else:\n",
    "                self.balance = self.balance - self.amount\n",
    "                print(\"Account balance has been withdrew successfully, your present valance is: \", self.balance)\n",
    "\n",
    "        def transfer(self, amount):\n",
    "            self.amount =  amount\n",
    "            if self.amount > self.balance:\n",
    "                print(\"Insuffiient balance to transfer, please try again. Your present balance is: \", self.balance)\n",
    "            else:\n",
    "                self.balance = self.balance - self.amount\n",
    "                print(\"Account balance has been transferred successfully, your present valance is: \", self.balance)\n",
    "\n",
    "\n",
    "\n",
    "        def view_present_balance(self):\n",
    "            #self.account_details()\n",
    "            print(\"\")\n",
    "            print(\"Your present account balance is: \", self.balance)        \n",
    "\n",
    " # Object create:\n",
    "Jany = Account_holder(\"AB0101\", \"Jany\", 25, \"Male\", \"janybd@gmail.com\", \"01725*****\")\n",
    "Jany.account_details()\n",
    "\n",
    "Jany = Bank(\"AB0101\",\"Jany\", 25, \"Male\", \"jann25@gmail.com\", \"017********\")\n",
    "Jany.deposit(500)\n",
    "Jany.withdraw(201)\n",
    "Jany.transfer(100)\n",
    "Jany.view_present_balance()\n",
    "\n",
    "# \n",
    "Jany.withdraw(50)\n",
    "Jany.transfer(100)\n",
    "\n"
   ]
  },
  {
   "cell_type": "code",
   "execution_count": null,
   "metadata": {},
   "outputs": [],
   "source": []
  }
 ],
 "metadata": {
  "interpreter": {
   "hash": "31f2aee4e71d21fbe5cf8b01ff0e069b9275f58929596ceb00d14d90e3e16cd6"
  },
  "kernelspec": {
   "display_name": "Python 3.6.9 64-bit",
   "language": "python",
   "name": "python3"
  },
  "language_info": {
   "codemirror_mode": {
    "name": "ipython",
    "version": 3
   },
   "file_extension": ".py",
   "mimetype": "text/x-python",
   "name": "python",
   "nbconvert_exporter": "python",
   "pygments_lexer": "ipython3",
   "version": "3.6.9"
  },
  "orig_nbformat": 4
 },
 "nbformat": 4,
 "nbformat_minor": 2
}
