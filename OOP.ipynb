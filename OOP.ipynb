{
 "cells": [
  {
   "cell_type": "markdown",
   "metadata": {},
   "source": [
    "# Python object oriented programming"
   ]
  },
  {
   "cell_type": "markdown",
   "metadata": {},
   "source": [
    "#### Major principles of object-oriented programming system are given below:\n",
    "##### Class\n",
    "##### Object\n",
    "##### Method\n",
    "##### Inheritence\n",
    "##### Polymorphism\n",
    "##### Data Abstraction\n",
    "##### Encapsulation"
   ]
  },
  {
   "cell_type": "markdown",
   "metadata": {},
   "source": [
    "## OOP:\n",
    "#### Python is a multiparadigm programming language. It supports different programming approaches. One of the approahes to solve s programming problem is by creating objects. This is called Object-oriented Programming (OOP)"
   ]
  },
  {
   "cell_type": "markdown",
   "metadata": {},
   "source": [
    "## Class and Objects in Pyhton:\n",
    "##### A class is user defined blueprint from which objects are created. The class is a user-defined data structure that binds members and methods into a single unit.\n",
    "#### An Object (instance) is an intanntiation of a class. When class is defined only the description for the object is defined. \n",
    "#### An Object has two characteristics:\n",
    "##### i) attributes (Exm- name, age, color, ), ii) behavior (exm- singing, dancing, etc ).\n",
    "\n",
    "##### In short, Every object has the following property: Identity, State and Behavior.\n",
    "\n",
    "#### Python is an Object-Oriented Programming language, so everything in Python is treated as an object. An object ia a real life entity. It is the collection of various data and functions that operate on those data.  "
   ]
  },
  {
   "cell_type": "markdown",
   "metadata": {},
   "source": [
    "#### class person:\n",
    "#### ....State:\n",
    "#### ......Name, sex, Profession\n",
    "\n",
    "#### Behavior:\n",
    "#### ....work()\n",
    "#### ....study()  "
   ]
  },
  {
   "cell_type": "markdown",
   "metadata": {},
   "source": [
    "### A real life example of class and objects:\n",
    "\n",
    "Class Person:\n",
    "\n",
    "    State: name, sex, profession\n",
    "    Behavior: study, working\n",
    "\n",
    "\n",
    " #### Using the above class, we can create multiple objects different states and behavior:\n",
    "\n",
    "Object 1: Hasu\n",
    "\n",
    "    State: \n",
    "        name: Hasu\n",
    "        sex: male\n",
    "        profession: SE\n",
    "\n",
    "    Behavior:\n",
    "        working: SE developer\n",
    "        study: 1 hour a day\n",
    "\n",
    "Object 2: Hasi\n",
    "\n",
    "    State: \n",
    "        name: Hasi\n",
    "        sex: female\n",
    "        profession: teacher\n",
    "\n",
    "    Behavior:\n",
    "        working: teach\n",
    "        study: 1 hour a day      \n",
    "\n",
    "#### Here both Objects are created from the same classes, but they have different states and behaviors.\n",
    "\n",
    "\n"
   ]
  },
  {
   "cell_type": "code",
   "execution_count": 7,
   "metadata": {},
   "outputs": [
    {
     "name": "stdout",
     "output_type": "stream",
     "text": [
      "my name is Hasi I am 25 years old I am working as a Doctor\n",
      "my name is Hasu I am 25 years old I am working as a teacher\n"
     ]
    }
   ],
   "source": [
    "class Person:\n",
    "    # instance attributes\n",
    "    def __init__(self, name, age, profession):\n",
    "        self.name= name\n",
    "        self.age = age\n",
    "        self.profession = profession\n",
    "\n",
    "    # Behavior (instance methods)\n",
    "    def display(self):\n",
    "        print(self.name, self.age, self.profession)\n",
    "\n",
    "#initiation of an object\n",
    "Hasi = Person(\"My name is Hasi\", \"I am 25 years old\", \"I am working as a Doctor\")\n",
    "Hasu = Person(\"My name is Hasu\", \"I am 25 years old\", \"I am working as a teacher\")\n",
    "\n",
    "#Call display function for printing of attributes:\n",
    "Hasi.display() \n",
    "Hasu.display()     "
   ]
  },
  {
   "cell_type": "markdown",
   "metadata": {},
   "source": [
    "### Creating Object of a Class:\n",
    "\n",
    "####  The __init__ method is similar to constructors in C++ and Java. In python, Object crreation is divided into parts in Object Creation and Object initialization. \n",
    "#### Constructors are used to initializing the object's state. So, state is represented by the attributes of an object.\n",
    "#### *** Using the _init_() method, we can impliment constructor to initialize the object."
   ]
  },
  {
   "cell_type": "markdown",
   "metadata": {},
   "source": [
    "## The Self\n",
    "#### n object-oriented programming, whenever we define methods for a class, we use self as the first parameter in each case. Let's look at the definition of a class called Cat. In this case all the methods, including __init__, have the first parameter as self.We know that class is a blueprint for the objects. This blueprint can be used to create multiple numbers of objects. Let's create two different objects from the above class. The self keyword is used to represent an instance (object) of the given class. In this case, the two Cat objects cat1 and cat2 have their own name and age attributes. If there was no self argument, the same class couldn't hold the information for both these objects.\n",
    "\n",
    "#### However, since the class is just a blueprint, self allows access to the attributes and methods of each object in python. This allows each object to have its own attributes and methods. Thus, even long before creating these objects, we reference the objects as self while defining the class."
   ]
  },
  {
   "cell_type": "code",
   "execution_count": 5,
   "metadata": {},
   "outputs": [
    {
     "name": "stdout",
     "output_type": "stream",
     "text": [
      "My name is Andy and I have a cat. I am 12 years old.\n",
      "Meow\n"
     ]
    }
   ],
   "source": [
    "class Cat:\n",
    "    def __init__(self, name, age):\n",
    "        self.name = name\n",
    "        self.age = age\n",
    "\n",
    "    def info(self):\n",
    "        print(f\"My name is {self.name} and I have a cat. I am {self.age} years old.\")\n",
    "\n",
    "    def make_sound(self):\n",
    "        print(\"Meow\")\n",
    "\n",
    "cat1 = Cat('Andy', 12)\n",
    "#cat2 = Cat()  \n",
    "\n",
    "cat1.info()\n",
    "cat1.make_sound()"
   ]
  },
  {
   "cell_type": "markdown",
   "metadata": {},
   "source": [
    "## Methods\n",
    "### Methods are functions defined inside the body of a class. They are used to define the behaviors of an object. "
   ]
  },
  {
   "cell_type": "code",
   "execution_count": 21,
   "metadata": {},
   "outputs": [
    {
     "name": "stdout",
     "output_type": "stream",
     "text": [
      "Hello, I am cat and my name is Miki\n",
      "My age is 12\n"
     ]
    }
   ],
   "source": [
    "class cat:\n",
    "    # instances attributes\n",
    "    def __init__(self, name, age):\n",
    "        self.name = name \n",
    "        self.age = age\n",
    "\n",
    "\n",
    "    #instances method:\n",
    "    def display(self):\n",
    "        print(\"Hello, I am cat and my name is\", self.name)\n",
    "        print(\"My age is\", self.age)\n",
    "\n",
    "whiteCat = cat(\"Miki\", 12)\n",
    "whiteCat.display()        "
   ]
  },
  {
   "cell_type": "markdown",
   "metadata": {},
   "source": [
    "## Creating Class and Objects with methods:"
   ]
  },
  {
   "cell_type": "code",
   "execution_count": 3,
   "metadata": {},
   "outputs": [
    {
     "name": "stdout",
     "output_type": "stream",
     "text": [
      "My name is Tommy\n",
      "My name is Tommy\n"
     ]
    }
   ],
   "source": [
    "class cat:\n",
    "    # class attibutes\n",
    "    attr = \"mammal\"\n",
    "\n",
    "    #instance attributes\n",
    "    def __init__(self, name):\n",
    "        self.name = name\n",
    "\n",
    "    def display(self):\n",
    "        print(f\"My name is {self.name}\")\n",
    "        print(\"My name is {}\".format(self.name)) \n",
    "\n",
    "#object instantiation\n",
    "Tommy = cat(\"Tommy\")\n",
    "\n",
    "# Accessing the class method\n",
    "Tommy.display() "
   ]
  },
  {
   "cell_type": "markdown",
   "metadata": {},
   "source": [
    "## inheritance\n",
    "\n",
    "### Inheritence is a way of creating a new class for using details of an existing class without modifying it. The newly formed class is a derived class (or child class). Similarly, the existing class is a base class (or parent class)."
   ]
  },
  {
   "cell_type": "markdown",
   "metadata": {},
   "source": [
    "### The process of inheriting the properties of the parent class into a child class is called inheritance. The existing class is called a base class or parent class and the new class is called a subclass or child class or derived class."
   ]
  },
  {
   "cell_type": "markdown",
   "metadata": {},
   "source": [
    "### General format:\n",
    "####     class BaseClass:\n",
    "#### ..........base class\n",
    "#### class DerivedClass(BaseClass):\n",
    "#### ..........Body of derived class       \n"
   ]
  },
  {
   "cell_type": "markdown",
   "metadata": {},
   "source": [
    "## Types of Inheritence:\n",
    "#### 1. Single Inheritence\n",
    "#### 2. Multiple Inheritence\n",
    "#### 3. Multilevel Inheritence\n",
    "#### 4. Hierarchical Inheritence\n",
    "#### 5. Hybrid Inheritencee"
   ]
  },
  {
   "cell_type": "markdown",
   "metadata": {},
   "source": [
    "## Single Inheritence:\n",
    "\n",
    "### In single inheritence, a child class inherits fron single-parent class. Here is one child class and one parent class.\n",
    "\n",
    "### Parent Class ----> Child class\n"
   ]
  },
  {
   "cell_type": "code",
   "execution_count": 9,
   "metadata": {},
   "outputs": [
    {
     "name": "stdout",
     "output_type": "stream",
     "text": [
      "Inside vehicle class\n",
      "Inside Car class\n"
     ]
    }
   ],
   "source": [
    "# For example: Creating a Base Class first\n",
    "class Vehicle:\n",
    "    def vehicle_info(self):\n",
    "        print(\"Inside vehicle class\")\n",
    "\n",
    "# create Child class:\n",
    "class Car(Vehicle):\n",
    "    def car_info(self):\n",
    "        print(\"Inside Car class\")\n",
    "\n",
    "#Create object of Car:\n",
    "car = Car()\n",
    "\n",
    "#Accessing vehicles info using car object\n",
    "car.vehicle_info()\n",
    "car.car_info()\n"
   ]
  },
  {
   "cell_type": "markdown",
   "metadata": {},
   "source": [
    "## Multiple Inheritance\n",
    "\n",
    "### parent class ---> Child class <----- Parent class"
   ]
  },
  {
   "cell_type": "code",
   "execution_count": 32,
   "metadata": {},
   "outputs": [
    {
     "name": "stdout",
     "output_type": "stream",
     "text": [
      "Indisde the Person class: \n",
      "Name:  Khalid \n",
      " age:  30\n",
      "\n",
      " Inside the company class: \n",
      "Company name:  A311010 \n",
      " Location:  US\n",
      "\n",
      " Inside the childd class: Employee class\n",
      "Salary:  3000000 \n",
      " Skills:  AI\n"
     ]
    }
   ],
   "source": [
    "# Parent class 1:\n",
    "class Person:\n",
    "    def person_info(self, name, age):\n",
    "        print(\"Indisde the Person class: \")\n",
    "        print(\"Name: \", name , \"\\n age: \", age)\n",
    "\n",
    "# Parent class 2:\n",
    "class Company:\n",
    "    def company_info(self, companyID, location):\n",
    "        print(\"\\n Inside the company class: \")\n",
    "        print(\"Company name: \", companyID, \"\\n Location: \", location)\n",
    "\n",
    "# child class:\n",
    "class Employee(Person, Company):\n",
    "    def Employee_info(self, salary, skills):\n",
    "        print(\"\\n Inside the childd class: Employee class\")  \n",
    "        print(\"Salary: \", salary, \"\\n Skills: \", skills)\n",
    "\n",
    "# Object cteate on Employee class:\n",
    "emp = Employee()\n",
    "\n",
    "# access data from classes:\n",
    "emp.person_info(\"Khalid\", 30)\n",
    "emp.company_info(\"A311010\", \"US\")\n",
    "emp.Employee_info(3000000, \"AI\")\n",
    "\n"
   ]
  },
  {
   "cell_type": "markdown",
   "metadata": {},
   "source": [
    "## Multilevel inheritence:\n",
    "### Parent ----> Child class -----> Child class\n"
   ]
  },
  {
   "cell_type": "markdown",
   "metadata": {},
   "source": []
  }
 ],
 "metadata": {
  "interpreter": {
   "hash": "31f2aee4e71d21fbe5cf8b01ff0e069b9275f58929596ceb00d14d90e3e16cd6"
  },
  "kernelspec": {
   "display_name": "Python 3.6.9 64-bit",
   "language": "python",
   "name": "python3"
  },
  "language_info": {
   "codemirror_mode": {
    "name": "ipython",
    "version": 3
   },
   "file_extension": ".py",
   "mimetype": "text/x-python",
   "name": "python",
   "nbconvert_exporter": "python",
   "pygments_lexer": "ipython3",
   "version": "3.6.9"
  },
  "orig_nbformat": 4
 },
 "nbformat": 4,
 "nbformat_minor": 2
}
