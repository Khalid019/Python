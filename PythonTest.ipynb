{
  "nbformat": 4,
  "nbformat_minor": 0,
  "metadata": {
    "colab": {
      "provenance": [],
      "authorship_tag": "ABX9TyNlR5Yl8AcnbCVlcyCUwMpc",
      "include_colab_link": true
    },
    "kernelspec": {
      "name": "python3",
      "display_name": "Python 3"
    },
    "language_info": {
      "name": "python"
    }
  },
  "cells": [
    {
      "cell_type": "markdown",
      "metadata": {
        "id": "view-in-github",
        "colab_type": "text"
      },
      "source": [
        "<a href=\"https://colab.research.google.com/github/Khalid019/Python/blob/main/PythonTest.ipynb\" target=\"_parent\"><img src=\"https://colab.research.google.com/assets/colab-badge.svg\" alt=\"Open In Colab\"/></a>"
      ]
    },
    {
      "cell_type": "markdown",
      "source": [
        "**ADD TWO LIST and Print UNIQUE ELEMENT**"
      ],
      "metadata": {
        "id": "XrWVfKAPIv5o"
      }
    },
    {
      "cell_type": "code",
      "execution_count": 7,
      "metadata": {
        "colab": {
          "base_uri": "https://localhost:8080/"
        },
        "id": "SLCGH-OEGHBN",
        "outputId": "875b7508-3595-4be6-f0dc-ed992263313f"
      },
      "outputs": [
        {
          "output_type": "stream",
          "name": "stdout",
          "text": [
            "['Ava', 'Emma', 'Olivia', 'Sophia']\n"
          ]
        }
      ],
      "source": [
        "def unique_names(names1, names2):\n",
        "    names = names1 + names2\n",
        "    del names[5]\n",
        "    del names[2]\n",
        "    return names\n",
        "\n",
        "if __name__ == \"__main__\":\n",
        "    names1 = [\"Ava\", \"Emma\", \"Olivia\"]\n",
        "    names2 = [\"Olivia\", \"Sophia\", \"Emma\"]\n",
        "    print(unique_names(names1, names2)) # should print Ava, Emma, Olivia, Sophia"
      ]
    },
    {
      "cell_type": "code",
      "source": [
        "def unique_names(names1, names2):\n",
        "    names = names1 + names2\n",
        "    namelist = []\n",
        "    for name in names:\n",
        "      if name not in namelist:\n",
        "        namelist.append(name)\n",
        "    return namelist\n",
        "\n",
        "if __name__ == \"__main__\":\n",
        "    names1 = [\"Ava\", \"Emma\", \"Olivia\"]\n",
        "    names2 = [\"Olivia\", \"Sophia\", \"Emma\"]\n",
        "    print(unique_names(names1, names2)) # should print Ava, Emma, Olivia, Sophia"
      ],
      "metadata": {
        "colab": {
          "base_uri": "https://localhost:8080/"
        },
        "id": "HH1RccXnHmH2",
        "outputId": "4df074f0-1977-4263-dd15-22adce84312c"
      },
      "execution_count": 9,
      "outputs": [
        {
          "output_type": "stream",
          "name": "stdout",
          "text": [
            "['Ava', 'Emma', 'Olivia', 'Sophia']\n"
          ]
        }
      ]
    }
  ]
}